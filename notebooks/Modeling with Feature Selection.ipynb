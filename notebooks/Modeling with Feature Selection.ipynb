{
 "cells": [
  {
   "cell_type": "code",
   "execution_count": 3,
   "metadata": {
    "collapsed": true
   },
   "outputs": [],
   "source": [
    "import pandas as pd\n",
    "import numpy as np\n",
    "import scipy.stats as stats\n",
    "import matplotlib.pyplot as plt\n",
    "import seaborn as sns\n",
    "%matplotlib inline\n",
    "\n",
    "# Suppress annoying warnings from pandas\n",
    "import warnings\n",
    "warnings.simplefilter(action='ignore', category=FutureWarning)\n",
    "warnings.simplefilter(action='ignore', category=UserWarning)\n",
    "warnings.simplefilter(action='ignore', category=DeprecationWarning)"
   ]
  },
  {
   "cell_type": "markdown",
   "metadata": {},
   "source": [
    "# Data Cleaning"
   ]
  },
  {
   "cell_type": "markdown",
   "metadata": {},
   "source": [
    "Here we map the names of the animal classes in ```class.csv``` to their corresponding ids in ```zoo.csv```."
   ]
  },
  {
   "cell_type": "code",
   "execution_count": 4,
   "metadata": {
    "collapsed": true
   },
   "outputs": [],
   "source": [
    "animals = pd.read_csv('../data/zoo.csv')\n",
    "# animals.drop(['animal_name'], axis=1, inplace=True)\n",
    "\n",
    "# animal_names = pd.read_csv('../data/zoo.csv').animal_name\n",
    "\n",
    "\n",
    "classes = pd.read_csv('../data/class.csv')\n",
    "classes.columns = [col.lower() for col in classes.columns]\n",
    "classes = classes[['class_number', 'class_type']].rename({'class_type':'class_name', 'class_number':'class_type'}, axis=1)\n",
    "\n",
    "animals = animals.merge(classes)\n",
    "\n",
    "animal_names = animals[['animal_name', 'class_name']]"
   ]
  },
  {
   "cell_type": "markdown",
   "metadata": {},
   "source": [
    "## Model Preparation"
   ]
  },
  {
   "cell_type": "code",
   "execution_count": 5,
   "metadata": {
    "collapsed": true
   },
   "outputs": [],
   "source": [
    "targets = animals.class_name.unique()\n",
    "n_classes = len(targets)\n",
    "features = animals.drop(['class_type', 'class_name', 'legs'], axis=1).columns\n",
    "\n",
    "dummy_legs = pd.get_dummies(animals.legs, drop_first=True)\n",
    "dummy_legs.columns = [str(col) + '_legs'  for col in dummy_legs.columns]\n",
    "\n",
    "X = animals[features].join(dummy_legs)\n",
    "y = animals.class_type.as_matrix()"
   ]
  },
  {
   "cell_type": "markdown",
   "metadata": {},
   "source": [
    "## Define qualitative colors for plotting each class\n",
    "\n",
    "Trying to think of some more intuitive colors for each of the classes...."
   ]
  },
  {
   "cell_type": "code",
   "execution_count": 6,
   "metadata": {
    "collapsed": true
   },
   "outputs": [],
   "source": [
    "import matplotlib.cm as cm\n",
    "from matplotlib.colors import rgb2hex\n",
    "\n",
    "cmap = cm.get_cmap('Accent', 7)\n",
    "colors = [rgb2hex(cmap(i)[:3]) for i in range(7)]"
   ]
  },
  {
   "cell_type": "markdown",
   "metadata": {},
   "source": [
    "# Is our data linearly separable?"
   ]
  },
  {
   "cell_type": "markdown",
   "metadata": {},
   "source": [
    "## Linear Discriminant Analysis + Computational Geometry\n",
    "The model will basically draw lines through the outer points of each class in lower-dimensional space to create the smallest possible polygon that encapsulates every point in the class. If any of the shapes overlap, the data is not linearly separable based on the x- and y-components. To detect overlap, we use what's called the convex hull algorithm. The picture below demonstrates this concept:\n",
    "\n",
    "\n",
    "![img](../img/linear_separability_demonstration.jpg)"
   ]
  },
  {
   "cell_type": "code",
   "execution_count": 7,
   "metadata": {
    "collapsed": true
   },
   "outputs": [],
   "source": [
    "from sklearn.discriminant_analysis import LinearDiscriminantAnalysis as LDA\n",
    "from sklearn.decomposition import PCA\n",
    "from scipy.spatial import ConvexHull\n",
    "import pylab as pl"
   ]
  },
  {
   "cell_type": "code",
   "execution_count": 8,
   "metadata": {
    "collapsed": true
   },
   "outputs": [],
   "source": [
    "def plot_decomp_samples(X, y, est='LDA'):\n",
    "    est = est.lower()\n",
    "    if est == 'lda':\n",
    "        X_r = LDA(n_components=2).fit_transform(X, y)\n",
    "    elif est == 'pca':\n",
    "        X_r = PCA(n_components=2).fit_transform(X, y)\n",
    "    else:\n",
    "        raise ValueError('est must be \"pca\" or \"lda\"')\n",
    "    \n",
    "    plt.clf()\n",
    "    plt.figure(figsize = (12, 8))\n",
    "    targets = classes.class_name\n",
    "    plt.title(est.upper() + ' Projection of Animal Features')\n",
    "    plt.xlabel('First Component')\n",
    "    plt.ylabel('Second Component')\n",
    "\n",
    "    for color, i, target in zip(colors, np.arange(1, n_classes+1), targets):\n",
    "        bucket = X_r[y == i, :]\n",
    "        try:\n",
    "            hull = ConvexHull(bucket) \n",
    "            for j in hull.simplices:\n",
    "                plt.plot(bucket[j,0], bucket[j,1], color)\n",
    "        except:\n",
    "            hull = None\n",
    "\n",
    "        coords = list(zip(bucket[:,0], bucket[:,1], animals[animals.class_type == i].index))\n",
    "        plt.scatter(bucket[:, 0], bucket[:, 1], color=color, alpha=.8, lw=.5, label=target)\n",
    "#         for x1,x2,ind in coords:\n",
    "#             pl.text(x1, x2, str(ind), color='black', fontsize=12)\n",
    "\n",
    "    plt.legend(prop={'size': 12})\n",
    "    plt.show()"
   ]
  },
  {
   "cell_type": "code",
   "execution_count": 9,
   "metadata": {
    "scrolled": false
   },
   "outputs": [
    {
     "data": {
      "text/plain": [
       "<matplotlib.figure.Figure at 0x1902c8821d0>"
      ]
     },
     "metadata": {},
     "output_type": "display_data"
    },
    {
     "data": {
      "image/png": "[encoded data removed]",
      "text/plain": [
       "<matplotlib.figure.Figure at 0x190302c88d0>"
      ]
     },
     "metadata": {},
     "output_type": "display_data"
    }
   ],
   "source": [
    "sns.set_style('white')\n",
    "plot_decomp_samples(X.drop('animal_name', 1), y, 'pca')"
   ]
  },
  {
   "cell_type": "markdown",
   "metadata": {},
   "source": [
    "Although the LDA visualization looks better, PCA tends to perform better when the number of classes in each sample is small, which is the case for us. For this reason we will consider a PCA-based classification."
   ]
  },
  {
   "cell_type": "markdown",
   "metadata": {},
   "source": [
    "### Single Layer Perceptron\n",
    "\n",
    "If our data is linearly separable, then we should be able to run it through a convergent single layer perceptron. A single layer perceptron will only converge if the input vectors are linearly separable. In this state, all input vectors would be classified correctly indicating linear separability. We will apply it on the entire dataset instead of splitting into train/test since our intent is to test for linear separability among the classes and not to build a model for future predictions. We don't have to do any feature scaling because all of our inputs are binary."
   ]
  },
  {
   "cell_type": "code",
   "execution_count": 10,
   "metadata": {},
   "outputs": [
    {
     "data": {
      "image/png": "[encoded data removed]",
      "text/plain": [
       "<matplotlib.figure.Figure at 0x1902c8824e0>"
      ]
     },
     "metadata": {},
     "output_type": "display_data"
    }
   ],
   "source": [
    "from sklearn.linear_model import Perceptron\n",
    "from yellowbrick.classifier import ConfusionMatrix\n",
    "perc = Perceptron(random_state=42)\n",
    "\n",
    "plt.figure(figsize=(12, 10))\n",
    "cm = ConfusionMatrix(perc, classes=animals.class_type.unique())\n",
    "cm.fit(X.drop('animal_name', axis=1), y).score(X.drop('animal_name', axis=1), y)\n",
    "fig = cm.poof()"
   ]
  },
  {
   "cell_type": "markdown",
   "metadata": {},
   "source": [
    "The confusion matrix shows us that our data is not linearly separable as it stands. We mistook a fish for a reptile and a reptile for an amphibian. The next step will be to try projecting our features into a higher dimensional space in which the data may be linearly separable, ie. run the data through a support vector machine."
   ]
  },
  {
   "cell_type": "markdown",
   "metadata": {},
   "source": [
    "## PCA Classifier"
   ]
  },
  {
   "cell_type": "code",
   "execution_count": 11,
   "metadata": {},
   "outputs": [
    {
     "data": {
      "image/png": "[encoded data removed]",
      "text/plain": [
       "<matplotlib.figure.Figure at 0x1903053d6d8>"
      ]
     },
     "metadata": {},
     "output_type": "display_data"
    }
   ],
   "source": [
    "from sklearn.pipeline import make_pipeline\n",
    "from sklearn.svm import SVC\n",
    "\n",
    "pca_svc = make_pipeline(PCA(n_components=3), SVC(kernel='linear', random_state=42))\n",
    "\n",
    "plt.figure(figsize=(12, 10))\n",
    "cm = ConfusionMatrix(pca_svc, classes=animals.class_type.unique())\n",
    "cm.fit(X.drop('animal_name', axis=1), y).score(X.drop('animal_name', axis=1), y)\n",
    "fig = cm.poof()"
   ]
  },
  {
   "cell_type": "code",
   "execution_count": 12,
   "metadata": {},
   "outputs": [
    {
     "data": {
      "text/plain": [
       "array([ 0.35056485,  0.18760977,  0.13405563])"
      ]
     },
     "execution_count": 12,
     "metadata": {},
     "output_type": "execute_result"
    }
   ],
   "source": [
    "pca_svc.steps[0][1].explained_variance_ratio_"
   ]
  },
  {
   "cell_type": "code",
   "execution_count": 13,
   "metadata": {
    "collapsed": true
   },
   "outputs": [],
   "source": [
    "bad = set()\n",
    "for i,actual,pred in zip(X.index.values, y, pca_svc.predict(X.drop('animal_name', axis=1))):\n",
    "    if actual != pred:\n",
    "        bad.add(i)"
   ]
  },
  {
   "cell_type": "markdown",
   "metadata": {},
   "source": [
    "The PCA approach doesn't look great. Let's try a regular support vector machine without any dimension reduction."
   ]
  },
  {
   "cell_type": "markdown",
   "metadata": {},
   "source": [
    "# Support Vector Machine"
   ]
  },
  {
   "cell_type": "code",
   "execution_count": 14,
   "metadata": {},
   "outputs": [
    {
     "ename": "NameError",
     "evalue": "name 'important_features' is not defined",
     "output_type": "error",
     "traceback": [
      "\u001b[1;31m---------------------------------------------------------------------------\u001b[0m",
      "\u001b[1;31mNameError\u001b[0m                                 Traceback (most recent call last)",
      "\u001b[1;32m<ipython-input-14-b3eed5353685>\u001b[0m in \u001b[0;36m<module>\u001b[1;34m()\u001b[0m\n\u001b[0;32m      3\u001b[0m \u001b[0mplt\u001b[0m\u001b[1;33m.\u001b[0m\u001b[0mfigure\u001b[0m\u001b[1;33m(\u001b[0m\u001b[0mfigsize\u001b[0m\u001b[1;33m=\u001b[0m\u001b[1;33m(\u001b[0m\u001b[1;36m12\u001b[0m\u001b[1;33m,\u001b[0m \u001b[1;36m10\u001b[0m\u001b[1;33m)\u001b[0m\u001b[1;33m)\u001b[0m\u001b[1;33m\u001b[0m\u001b[0m\n\u001b[0;32m      4\u001b[0m \u001b[0mcm\u001b[0m \u001b[1;33m=\u001b[0m \u001b[0mConfusionMatrix\u001b[0m\u001b[1;33m(\u001b[0m\u001b[0msvc\u001b[0m\u001b[1;33m,\u001b[0m \u001b[0mclasses\u001b[0m\u001b[1;33m=\u001b[0m\u001b[0manimals\u001b[0m\u001b[1;33m.\u001b[0m\u001b[0mclass_type\u001b[0m\u001b[1;33m.\u001b[0m\u001b[0munique\u001b[0m\u001b[1;33m(\u001b[0m\u001b[1;33m)\u001b[0m\u001b[1;33m)\u001b[0m\u001b[1;33m\u001b[0m\u001b[0m\n\u001b[1;32m----> 5\u001b[1;33m \u001b[0mcm\u001b[0m\u001b[1;33m.\u001b[0m\u001b[0mfit\u001b[0m\u001b[1;33m(\u001b[0m\u001b[0mX\u001b[0m\u001b[1;33m.\u001b[0m\u001b[0mdrop\u001b[0m\u001b[1;33m(\u001b[0m\u001b[1;34m'animal_name'\u001b[0m\u001b[1;33m,\u001b[0m \u001b[0maxis\u001b[0m\u001b[1;33m=\u001b[0m\u001b[1;36m1\u001b[0m\u001b[1;33m)\u001b[0m\u001b[1;33m[\u001b[0m\u001b[0mimportant_features\u001b[0m\u001b[1;33m]\u001b[0m\u001b[1;33m,\u001b[0m \u001b[0my\u001b[0m\u001b[1;33m)\u001b[0m\u001b[1;33m.\u001b[0m\u001b[0mscore\u001b[0m\u001b[1;33m(\u001b[0m\u001b[0mX\u001b[0m\u001b[1;33m.\u001b[0m\u001b[0mdrop\u001b[0m\u001b[1;33m(\u001b[0m\u001b[1;34m'animal_name'\u001b[0m\u001b[1;33m,\u001b[0m \u001b[0maxis\u001b[0m\u001b[1;33m=\u001b[0m\u001b[1;36m1\u001b[0m\u001b[1;33m)\u001b[0m\u001b[1;33m[\u001b[0m\u001b[0mimportant_featurest_features\u001b[0m\u001b[1;33m]\u001b[0m\u001b[1;33m,\u001b[0m \u001b[0my\u001b[0m\u001b[1;33m)\u001b[0m\u001b[1;33m\u001b[0m\u001b[0m\n\u001b[0m\u001b[0;32m      6\u001b[0m \u001b[0mfig\u001b[0m \u001b[1;33m=\u001b[0m \u001b[0mcm\u001b[0m\u001b[1;33m.\u001b[0m\u001b[0mpoof\u001b[0m\u001b[1;33m(\u001b[0m\u001b[1;33m)\u001b[0m\u001b[1;33m\u001b[0m\u001b[0m\n",
      "\u001b[1;31mNameError\u001b[0m: name 'important_features' is not defined"
     ]
    },
    {
     "data": {
      "text/plain": [
       "<matplotlib.figure.Figure at 0x19030987d68>"
      ]
     },
     "metadata": {},
     "output_type": "display_data"
    }
   ],
   "source": [
    "svc = SVC(kernel='linear', class_weight='balanced')\n",
    "\n",
    "plt.figure(figsize=(12, 10))\n",
    "cm = ConfusionMatrix(svc, classes=animals.class_type.unique())\n",
    "cm.fit(X.drop('animal_name', axis=1)[important_features], y).score(X.drop('animal_name', axis=1)[important_featurest_features], y)\n",
    "fig = cm.poof()"
   ]
  },
  {
   "cell_type": "markdown",
   "metadata": {},
   "source": [
    "Sweet baby jesus we've done it. We have linear separability!"
   ]
  },
  {
   "cell_type": "markdown",
   "metadata": {},
   "source": [
    "# SVM Hyperparameter Tuning\n",
    "\n",
    "Now that we know the dataset is linearly separable, let's cross-validate the model to find the optimal hyperparameters. Although we performed perfectly on all of the data with a linear kernel, other kernels might generalize better, so the hyperparameters of interest will be **C**, **gamma**, and **kernel**."
   ]
  },
  {
   "cell_type": "code",
   "execution_count": 15,
   "metadata": {},
   "outputs": [
    {
     "name": "stderr",
     "output_type": "stream",
     "text": [
      "C:\\Users\\samba\\Anaconda3\\lib\\site-packages\\sklearn\\cross_validation.py:41: DeprecationWarning: This module was deprecated in version 0.18 in favor of the model_selection module into which all the refactored classes and functions are moved. Also note that the interface of the new CV iterators are different from that of this module. This module will be removed in 0.20.\n",
      "  \"This module will be removed in 0.20.\", DeprecationWarning)\n",
      "C:\\Users\\samba\\Anaconda3\\lib\\site-packages\\sklearn\\grid_search.py:42: DeprecationWarning: This module was deprecated in version 0.18 in favor of the model_selection module into which all the refactored classes and functions are moved. This module will be removed in 0.20.\n",
      "  DeprecationWarning)\n",
      "C:\\Users\\samba\\Anaconda3\\lib\\site-packages\\sklearn\\cross_validation.py:553: Warning: The least populated class in y has only 3 members, which is too few. The minimum number of labels for any class cannot be less than n_folds=7.\n",
      "  % (min_labels, self.n_folds)), Warning)\n"
     ]
    },
    {
     "data": {
      "text/plain": [
       "GridSearchCV(cv=7, error_score='raise',\n",
       "       estimator=SVC(C=1.0, cache_size=200, class_weight='balanced', coef0=0.0,\n",
       "  decision_function_shape='ovr', degree=3, gamma='auto', kernel='rbf',\n",
       "  max_iter=-1, probability=False, random_state=None, shrinking=True,\n",
       "  tol=0.001, verbose=False),\n",
       "       fit_params={}, iid=True, n_jobs=1,\n",
       "       param_grid={'C': [0.001, 0.01, 0.1, 1, 10], 'gamma': [0.001, 0.01, 0.1, 1], 'kernel': ['linear', 'rbf', 'poly', 'sigmoid']},\n",
       "       pre_dispatch='2*n_jobs', refit=True, scoring=None, verbose=0)"
      ]
     },
     "execution_count": 15,
     "metadata": {},
     "output_type": "execute_result"
    }
   ],
   "source": [
    "from sklearn.grid_search import GridSearchCV\n",
    "from sklearn.model_selection import train_test_split\n",
    "\n",
    "X_train, X_test, y_train, y_test = train_test_split(X.drop('animal_name', 1), y, stratify=y) \n",
    "\n",
    "Cs = [.001, .01, .1, 1, 10]\n",
    "gammas = [.001, .01, .1, 1]\n",
    "kernels = ['linear', 'rbf', 'poly', 'sigmoid']\n",
    "\n",
    "param_grid = {'C':Cs, 'gamma':gammas, 'kernel':kernels}\n",
    "\n",
    "n_folds = n_classes # Number of folds must be less than number of obs in smallest class\n",
    "grid_search = GridSearchCV(SVC(class_weight='balanced'), param_grid, cv=n_folds)\n",
    "grid_search.fit(X_train, y_train)"
   ]
  },
  {
   "cell_type": "code",
   "execution_count": 16,
   "metadata": {},
   "outputs": [
    {
     "data": {
      "text/plain": [
       "{'C': 0.01, 'gamma': 1, 'kernel': 'poly'}"
      ]
     },
     "execution_count": 16,
     "metadata": {},
     "output_type": "execute_result"
    }
   ],
   "source": [
    "grid_search.best_params_"
   ]
  },
  {
   "cell_type": "code",
   "execution_count": 17,
   "metadata": {},
   "outputs": [
    {
     "data": {
      "image/png": "[encoded data removed]",
      "text/plain": [
       "<matplotlib.figure.Figure at 0x19030ded4a8>"
      ]
     },
     "metadata": {},
     "output_type": "display_data"
    }
   ],
   "source": [
    "svc = SVC(**grid_search.best_params_)\n",
    "\n",
    "plt.figure(figsize=(12, 10))\n",
    "cm = ConfusionMatrix(svc, classes=animals.class_type.unique())\n",
    "cm.fit(X_train, y_train).score(X_test, y_test)\n",
    "fig = cm.poof()"
   ]
  },
  {
   "cell_type": "markdown",
   "metadata": {},
   "source": [
    "Alrighty then! It looks like my work here is done...we predicted test set perfectly. Based on the cross-validation, our optimal hyperparameters were a C of .1, gamma of 1, and polynomial kernel."
   ]
  },
  {
   "cell_type": "markdown",
   "metadata": {},
   "source": [
    "# Naive Bayes Classifier"
   ]
  },
  {
   "cell_type": "code",
   "execution_count": 18,
   "metadata": {
    "collapsed": true
   },
   "outputs": [],
   "source": [
    "from sklearn.naive_bayes import BernoulliNB"
   ]
  },
  {
   "cell_type": "code",
   "execution_count": 19,
   "metadata": {},
   "outputs": [
    {
     "data": {
      "image/png": "[encoded data removed]",
      "text/plain": [
       "<matplotlib.figure.Figure at 0x190312fd278>"
      ]
     },
     "metadata": {},
     "output_type": "display_data"
    }
   ],
   "source": [
    "bnb = BernoulliNB()\n",
    "\n",
    "plt.figure(figsize=(12, 10))\n",
    "cm = ConfusionMatrix(bnb, classes=animals.class_type.unique())\n",
    "cm.fit(X.drop('animal_name', 1), y).score(X.drop('animal_name', 1), y)\n",
    "fig = cm.poof()"
   ]
  },
  {
   "cell_type": "code",
   "execution_count": 20,
   "metadata": {},
   "outputs": [
    {
     "data": {
      "text/plain": [
       "GridSearchCV(cv=3, error_score='raise',\n",
       "       estimator=BernoulliNB(alpha=1.0, binarize=0.0, class_prior=None, fit_prior=True),\n",
       "       fit_params={}, iid=True, n_jobs=1,\n",
       "       param_grid={'alpha': [1e-05, 0.0001, 0.001, 0.01, 0.1, 1, 10], 'fit_prior': [True, False]},\n",
       "       pre_dispatch='2*n_jobs', refit=True, scoring=None, verbose=0)"
      ]
     },
     "execution_count": 20,
     "metadata": {},
     "output_type": "execute_result"
    }
   ],
   "source": [
    "alphas = [.00001, .0001, .001, .01, .1, 1, 10]\n",
    "fit_priors = [True, False]\n",
    "param_grid = {'alpha': alphas, 'fit_prior': fit_priors}\n",
    "\n",
    "n_folds = 3\n",
    "grid_search = GridSearchCV(BernoulliNB(), param_grid, cv=n_folds)\n",
    "grid_search.fit(X_train, y_train)"
   ]
  },
  {
   "cell_type": "code",
   "execution_count": 21,
   "metadata": {},
   "outputs": [
    {
     "data": {
      "text/plain": [
       "{'alpha': 1e-05, 'fit_prior': True}"
      ]
     },
     "execution_count": 21,
     "metadata": {},
     "output_type": "execute_result"
    }
   ],
   "source": [
    "grid_search.best_params_"
   ]
  },
  {
   "cell_type": "code",
   "execution_count": 22,
   "metadata": {},
   "outputs": [
    {
     "data": {
      "image/png": "[encoded data removed]",
      "text/plain": [
       "<matplotlib.figure.Figure at 0x190312fd208>"
      ]
     },
     "metadata": {},
     "output_type": "display_data"
    }
   ],
   "source": [
    "bnb = BernoulliNB(**grid_search.best_params_)\n",
    "\n",
    "plt.figure(figsize=(12, 10))\n",
    "cm = ConfusionMatrix(bnb, classes=animals.class_type.unique())\n",
    "cm.fit(X_train, y_train).score(X_test, y_test)\n",
    "fig = cm.poof()"
   ]
  },
  {
   "cell_type": "markdown",
   "metadata": {},
   "source": [
    "# K Nearest Neighbors Classifier"
   ]
  },
  {
   "cell_type": "code",
   "execution_count": 23,
   "metadata": {},
   "outputs": [
    {
     "data": {
      "image/png": "[encoded data removed]",
      "text/plain": [
       "<matplotlib.figure.Figure at 0x19031557b00>"
      ]
     },
     "metadata": {},
     "output_type": "display_data"
    }
   ],
   "source": [
    "from sklearn.neighbors import KNeighborsClassifier\n",
    "\n",
    "knc = KNeighborsClassifier(1)\n",
    "\n",
    "plt.figure(figsize=(12, 10))\n",
    "cm = ConfusionMatrix(knc, classes=animals.class_type.unique())\n",
    "cm.fit(X.drop('animal_name', 1), y).score(X.drop('animal_name', 1), y)\n",
    "fig = cm.poof()"
   ]
  },
  {
   "cell_type": "markdown",
   "metadata": {},
   "source": [
    "# K Nearest Neighbors Cross-validation"
   ]
  },
  {
   "cell_type": "code",
   "execution_count": 24,
   "metadata": {},
   "outputs": [
    {
     "data": {
      "text/plain": [
       "GridSearchCV(cv=3, error_score='raise',\n",
       "       estimator=KNeighborsClassifier(algorithm='auto', leaf_size=30, metric='minkowski',\n",
       "           metric_params=None, n_jobs=1, n_neighbors=5, p=2,\n",
       "           weights='uniform'),\n",
       "       fit_params={}, iid=True, n_jobs=1,\n",
       "       param_grid={'n_neighbors': array([1, 2, 3, 4, 5]), 'metric': ['euclidean', 'minkowski', 'jaccard', 'dice']},\n",
       "       pre_dispatch='2*n_jobs', refit=True, scoring=None, verbose=0)"
      ]
     },
     "execution_count": 24,
     "metadata": {},
     "output_type": "execute_result"
    }
   ],
   "source": [
    "n_neighbors = np.arange(1, 6)\n",
    "metrics = ['euclidean', 'minkowski', 'jaccard', 'dice']\n",
    "param_grid = {'n_neighbors': n_neighbors, 'metric':metrics}\n",
    "\n",
    "grid_search = GridSearchCV(KNeighborsClassifier(), param_grid, cv=n_folds)\n",
    "grid_search.fit(X_train, y_train)"
   ]
  },
  {
   "cell_type": "code",
   "execution_count": 25,
   "metadata": {},
   "outputs": [
    {
     "data": {
      "image/png": "[encoded data removed]",
      "text/plain": [
       "<matplotlib.figure.Figure at 0x19031a197b8>"
      ]
     },
     "metadata": {},
     "output_type": "display_data"
    }
   ],
   "source": [
    "knc = KNeighborsClassifier(**grid_search.best_params_)\n",
    "\n",
    "plt.figure(figsize=(12, 10))\n",
    "cm = ConfusionMatrix(svc, classes=animals.class_type.unique())\n",
    "cm.fit(X_train, y_train).score(X_test, y_test)\n",
    "fig = cm.poof()"
   ]
  },
  {
   "cell_type": "markdown",
   "metadata": {},
   "source": [
    "# Gradient Boosting Machine"
   ]
  },
  {
   "cell_type": "code",
   "execution_count": 26,
   "metadata": {},
   "outputs": [
    {
     "data": {
      "image/png": "[encoded data removed]",
      "text/plain": [
       "<matplotlib.figure.Figure at 0x1903181c438>"
      ]
     },
     "metadata": {},
     "output_type": "display_data"
    }
   ],
   "source": [
    "from sklearn.ensemble import GradientBoostingClassifier\n",
    "\n",
    "knc = GradientBoostingClassifier()\n",
    "\n",
    "plt.figure(figsize=(12, 10))\n",
    "cm = ConfusionMatrix(knc, classes=animals.class_type.unique())\n",
    "cm.fit(X.drop('animal_name', 1), y).score(X.drop('animal_name', 1), y)\n",
    "fig = cm.poof()"
   ]
  },
  {
   "cell_type": "code",
   "execution_count": 27,
   "metadata": {
    "collapsed": true
   },
   "outputs": [],
   "source": [
    "# n_estimators = np.arange(20,81,10)\n",
    "# max_depths = np.arange(5,16,2)\n",
    "# min_samples_splits = np.arange(200,1001,200)\n",
    "# max_features = np.arange(7,20,2)\n",
    "# param_grid = {'n_estimators': n_estimators, \n",
    "#               'max_depth': max_depths, \n",
    "#               'min_samples_split': min_samples_splits, \n",
    "#               'max_features': max_features}\n",
    "\n",
    "# grid_search = GridSearchCV(GradientBoostingClassifier(), param_grid, cv=n_folds)\n",
    "# grid_search.fit(X_train, y_train)"
   ]
  },
  {
   "cell_type": "code",
   "execution_count": 28,
   "metadata": {},
   "outputs": [
    {
     "data": {
      "text/plain": [
       "GridSearchCV(cv=3, error_score='raise',\n",
       "       estimator=GradientBoostingClassifier(criterion='friedman_mse', init=None,\n",
       "              learning_rate=0.1, loss='deviance', max_depth=5,\n",
       "              max_features=None, max_leaf_nodes=None,\n",
       "              min_impurity_decrease=0.0, min_impurity_split=None,\n",
       "              min_samples_leaf=1, min_samples_split=2,\n",
       "              min_weight_fraction_leaf=0.0, n_estimators=20,\n",
       "              presort='auto', random_state=None, subsample=1.0, verbose=0,\n",
       "              warm_start=False),\n",
       "       fit_params={}, iid=True, n_jobs=1,\n",
       "       param_grid={'min_samples_split': array([20, 25, 30]), 'max_features': array([16, 17, 18, 19, 20])},\n",
       "       pre_dispatch='2*n_jobs', refit=True, scoring=None, verbose=0)"
      ]
     },
     "execution_count": 28,
     "metadata": {},
     "output_type": "execute_result"
    }
   ],
   "source": [
    "min_samples_splits = np.arange(20,31,5)\n",
    "max_features = np.arange(16,21,1)\n",
    "param_grid = {'min_samples_split': min_samples_splits, \n",
    "              'max_features': max_features}\n",
    "\n",
    "grid_search = GridSearchCV(GradientBoostingClassifier(n_estimators=20, max_depth=5), param_grid, cv=n_folds)\n",
    "grid_search.fit(X_train, y_train)"
   ]
  },
  {
   "cell_type": "markdown",
   "metadata": {},
   "source": [
    "# Multilayer Perceptron"
   ]
  },
  {
   "cell_type": "code",
   "execution_count": 29,
   "metadata": {},
   "outputs": [
    {
     "data": {
      "image/png": "[encoded data removed]",
      "text/plain": [
       "<matplotlib.figure.Figure at 0x19031c38f98>"
      ]
     },
     "metadata": {},
     "output_type": "display_data"
    }
   ],
   "source": [
    "from sklearn.neural_network import MLPClassifier\n",
    "\n",
    "mlp = MLPClassifier()\n",
    "\n",
    "plt.figure(figsize=(12, 10))\n",
    "cm = ConfusionMatrix(mlp, classes=animals.class_type.unique())\n",
    "cm.fit(X.drop('animal_name', 1), y).score(X.drop('animal_name', 1), y)\n",
    "fig = cm.poof()"
   ]
  },
  {
   "cell_type": "markdown",
   "metadata": {},
   "source": [
    "### TODO: Tune MLP Hyperparamters"
   ]
  },
  {
   "cell_type": "code",
   "execution_count": 30,
   "metadata": {},
   "outputs": [
    {
     "data": {
      "text/plain": [
       "GridSearchCV(cv=3, error_score='raise',\n",
       "       estimator=MLPClassifier(activation='relu', alpha=0.0001, batch_size='auto', beta_1=0.9,\n",
       "       beta_2=0.999, early_stopping=False, epsilon=1e-08,\n",
       "       hidden_layer_sizes=(100,), learning_rate='constant',\n",
       "       learning_rate_init=0.001, max_iter=200, momentum=0.9,\n",
       "       nesterovs_momentum=True, power_t=0.5, random_state=None,\n",
       "       shuffle=True, solver='adam', tol=0.0001, validation_fraction=0.1,\n",
       "       verbose=False, warm_start=False),\n",
       "       fit_params={}, iid=True, n_jobs=1, param_grid={},\n",
       "       pre_dispatch='2*n_jobs', refit=True, scoring=None, verbose=0)"
      ]
     },
     "execution_count": 30,
     "metadata": {},
     "output_type": "execute_result"
    }
   ],
   "source": [
    "param_grid = {}\n",
    "\n",
    "grid_search = GridSearchCV(MLPClassifier(), param_grid, cv=n_folds)\n",
    "grid_search.fit(X_train, y_train)"
   ]
  },
  {
   "cell_type": "markdown",
   "metadata": {
    "collapsed": true
   },
   "source": [
    "# Random Forest\n",
    "\n",
    "Here we try a random forest, but in practice decision tree based apporaches tend not to perform well on small datasets (they overfit)."
   ]
  },
  {
   "cell_type": "code",
   "execution_count": 31,
   "metadata": {},
   "outputs": [
    {
     "data": {
      "image/png": "[encoded data removed]",
      "text/plain": [
       "<matplotlib.figure.Figure at 0x19030523e80>"
      ]
     },
     "metadata": {},
     "output_type": "display_data"
    }
   ],
   "source": [
    "from sklearn.ensemble import RandomForestClassifier\n",
    "\n",
    "mlp = RandomForestClassifier()\n",
    "\n",
    "plt.figure(figsize=(12, 10))\n",
    "cm = ConfusionMatrix(mlp, classes=animals.class_type.unique())\n",
    "cm.fit(X.drop('animal_name', 1), y).score(X.drop('animal_name', 1), y)\n",
    "fig = cm.poof()"
   ]
  },
  {
   "cell_type": "markdown",
   "metadata": {},
   "source": [
    "### TODO: Tune Random Forest Hyperparameters"
   ]
  },
  {
   "cell_type": "code",
   "execution_count": 32,
   "metadata": {},
   "outputs": [
    {
     "data": {
      "text/plain": [
       "GridSearchCV(cv=3, error_score='raise',\n",
       "       estimator=RandomForestClassifier(bootstrap=True, class_weight=None, criterion='gini',\n",
       "            max_depth=None, max_features='auto', max_leaf_nodes=None,\n",
       "            min_impurity_decrease=0.0, min_impurity_split=None,\n",
       "            min_samples_leaf=1, min_samples_split=2,\n",
       "            min_weight_fraction_leaf=0.0, n_estimators=10, n_jobs=1,\n",
       "            oob_score=False, random_state=None, verbose=0,\n",
       "            warm_start=False),\n",
       "       fit_params={}, iid=True, n_jobs=1, param_grid={},\n",
       "       pre_dispatch='2*n_jobs', refit=True, scoring=None, verbose=0)"
      ]
     },
     "execution_count": 32,
     "metadata": {},
     "output_type": "execute_result"
    }
   ],
   "source": [
    "param_grid = {}\n",
    "\n",
    "grid_search = GridSearchCV(RandomForestClassifier(), param_grid, cv=n_folds)\n",
    "grid_search.fit(X_train, y_train)"
   ]
  },
  {
   "cell_type": "markdown",
   "metadata": {
    "collapsed": true
   },
   "source": [
    "# Testing"
   ]
  },
  {
   "cell_type": "markdown",
   "metadata": {},
   "source": [
    "## GridSearch Cross-validation"
   ]
  },
  {
   "cell_type": "markdown",
   "metadata": {},
   "source": [
    "Let's see if we just got lucky with our cross-validation by simulating a variety of random seeds for splitting the data into test and train."
   ]
  },
  {
   "cell_type": "code",
   "execution_count": 33,
   "metadata": {
    "collapsed": true
   },
   "outputs": [],
   "source": [
    "from sklearn.svm import SVC\n",
    "from sklearn.neighbors import KNeighborsClassifier\n",
    "from sklearn.ensemble import GradientBoostingClassifier, RandomForestClassifier\n",
    "from sklearn.neural_network import MLPClassifier\n",
    "from sklearn.model_selection import train_test_split\n",
    "from sklearn.metrics import f1_score\n",
    "\n",
    "def test_model(seed, X, y, est):\n",
    "    X_train, X_test, y_train, y_test = train_test_split(X, y, stratify=y, random_state=seed)\n",
    "    if est == 'poly_svc':\n",
    "        params = {'C': .01, 'gamma': 1, 'kernel': 'poly', 'class_weight': 'balanced'}\n",
    "        model = SVC(**params).fit(X_train.drop(['animal_name'], axis=1), y_train)\n",
    "    elif est == 'linear_svc':\n",
    "        params = {'C': .1, 'kernel': 'linear', 'class_weight': 'balanced'}\n",
    "        model = SVC(**params).fit(X_train.drop(['animal_name'], axis=1), y_train)\n",
    "    elif est == 'rbf_svc':\n",
    "        params = {'C': .1, 'gamma': 1, 'kernel': 'rbf', 'class_weight': 'balanced'}\n",
    "        model = SVC(**params).fit(X_train.drop(['animal_name'], axis=1), y_train)\n",
    "    elif est == 'bnb':\n",
    "        params = {'alpha': 1, 'fit_prior': True}\n",
    "        model = BernoulliNB(**params).fit(X_train.drop(['animal_name'], axis=1), y_train)\n",
    "    elif est == 'knc':\n",
    "        params = {'n_neighbors': 3, 'metric': 'euclidean'}\n",
    "        model = KNeighborsClassifier(**params).fit(X_train.drop(['animal_name'], axis=1), y_train)\n",
    "    elif est == 'gbm':\n",
    "        params = {'n_estimators': 20, 'max_depth': 5, 'max_features': 19, 'min_samples_split': 15}\n",
    "        model = GradientBoostingClassifier(**params).fit(X_train.drop(['animal_name'], axis=1), y_train)\n",
    "    elif est == 'mlp':\n",
    "        model = MLPClassifier().fit(X_train.drop(['animal_name'], axis=1), y_train)\n",
    "    elif est == 'rf':\n",
    "        model = RandomForestClassifier().fit(X_train.drop(['animal_name'], axis=1), y_train)\n",
    "    else:\n",
    "        raise ValueError('est parameter must be svc, knc, gbm, or mlp')\n",
    "        \n",
    "    for animal_name,actual,pred in zip(X_train.animal_name, y_test, model.predict(X_test.drop(['animal_name'], axis=1))):\n",
    "        if actual != pred:\n",
    "            bad.append((est, animal_name))\n",
    "    \n",
    "    y_preds = model.predict(X_test.drop(['animal_name'], axis=1))\n",
    "    accuracy = model.score(X_test.drop(['animal_name'], axis=1), y_test)\n",
    "    f1 = f1_score(y_test, y_preds, average='weighted')\n",
    "    \n",
    "    return accuracy, f1, pd.DataFrame(list(precision_recall_fscore_support(y_test, y_preds))).transpose().as_matrix()"
   ]
  },
  {
   "cell_type": "code",
   "execution_count": 34,
   "metadata": {
    "collapsed": true
   },
   "outputs": [],
   "source": [
    "def simulate_model(n_simulations, X, y, est):\n",
    "    scores = []\n",
    "    f1_scores = []\n",
    "    accuracies = []\n",
    "    for seed in range(n_simulations):\n",
    "#         if seed % 100 == 0: print(seed)\n",
    "        accuracy, f1, scoring = test_model(seed, X, y, est.lower())\n",
    "        scores.append(scoring)\n",
    "        accuracies.append(accuracy)\n",
    "        f1_scores.append(f1)\n",
    "#     print('The average accuracy for ' + est.upper() + ' across {} simulations was {:.2%}'.format(n_simulations, np.mean(scores)))\n",
    "    return np.mean(accuracies), np.mean(f1_scores), scores"
   ]
  },
  {
   "cell_type": "code",
   "execution_count": 35,
   "metadata": {
    "collapsed": true
   },
   "outputs": [],
   "source": [
    "estimators = ['poly_svc', 'linear_svc', 'knc']"
   ]
  },
  {
   "cell_type": "code",
   "execution_count": 586,
   "metadata": {
    "collapsed": true
   },
   "outputs": [],
   "source": [
    "bad = []\n",
    "n_simulations = 1000\n",
    "scores = []\n",
    "accuracies = []\n",
    "f1_scores = []\n",
    "for est in estimators:\n",
    "    accuracy, f1, scoring = simulate_model(n_simulations, X, y, est)\n",
    "    scores.append(scoring)\n",
    "    accuracies.append((est, accuracy))\n",
    "    f1_scores.append((est, f1))"
   ]
  },
  {
   "cell_type": "code",
   "execution_count": 587,
   "metadata": {},
   "outputs": [
    {
     "data": {
      "text/plain": [
       "[('poly_svc', 0.96473076923076928),\n",
       " ('linear_svc', 0.95950000000000013),\n",
       " ('knc', 0.95069230769230773)]"
      ]
     },
     "execution_count": 587,
     "metadata": {},
     "output_type": "execute_result"
    }
   ],
   "source": [
    "accuracies"
   ]
  },
  {
   "cell_type": "code",
   "execution_count": 588,
   "metadata": {},
   "outputs": [
    {
     "data": {
      "text/plain": [
       "[('poly_svc', 0.95490723443223458),\n",
       " ('linear_svc', 0.95551950549450559),\n",
       " ('knc', 0.94305937395937389)]"
      ]
     },
     "execution_count": 588,
     "metadata": {},
     "output_type": "execute_result"
    }
   ],
   "source": [
    "f1_scores"
   ]
  },
  {
   "cell_type": "code",
   "execution_count": 547,
   "metadata": {
    "collapsed": true
   },
   "outputs": [],
   "source": [
    "average_scores = []\n",
    "for score,est in list(zip(scores,estimators)):\n",
    "    total = score[0]\n",
    "    for i in range(1, n_simulations):\n",
    "        total = total + score[i]\n",
    "    df = pd.DataFrame(total / n_simulations)\n",
    "    df.columns = ['precision', 'recall', 'fscore', 'support']\n",
    "    df['model'] = est\n",
    "    average_scores.append(classes.join(df).drop('class_type', 1).set_index('class_name'))"
   ]
  },
  {
   "cell_type": "code",
   "execution_count": 548,
   "metadata": {
    "collapsed": true
   },
   "outputs": [],
   "source": [
    "average_scores = pd.concat(average_scores).reset_index()"
   ]
  },
  {
   "cell_type": "code",
   "execution_count": 549,
   "metadata": {},
   "outputs": [
    {
     "data": {
      "image/png": "[encoded data removed]",
      "text/plain": [
       "<matplotlib.figure.Figure at 0x1c89e0eecc0>"
      ]
     },
     "metadata": {},
     "output_type": "display_data"
    },
    {
     "data": {
      "text/plain": [
       "<matplotlib.figure.Figure at 0x1c89e0ee6d8>"
      ]
     },
     "metadata": {},
     "output_type": "display_data"
    }
   ],
   "source": [
    "fig, (ax1, ax2, ax3) = plt.subplots(3, 1, figsize=(14, 10))\n",
    "plt.figure()\n",
    "sns.barplot(x='model', y='precision', hue='class_name', data=average_scores, ax=ax1, palette=palette)\n",
    "# ax1.set_ylim(0.5, 1)\n",
    "vals = ax1.get_yticks()\n",
    "ax1.set_yticklabels(['{:3.0f}%'.format(x*100) for x in vals])\n",
    "ax1.legend_.remove()\n",
    "\n",
    "sns.barplot(x='model', y='recall', hue='class_name', data=average_scores, ax=ax2, palette=palette)\n",
    "# ax2.set_ylim(0.5, 1)\n",
    "vals = ax2.get_yticks()\n",
    "ax2.set_yticklabels(['{:3.0f}%'.format(x*100) for x in vals])\n",
    "ax2.legend(bbox_to_anchor=(1.05, .8), loc=2, borderaxespad=0.)\n",
    "\n",
    "sns.barplot(x='model', y='fscore', hue='class_name', data=average_scores, ax=ax3, palette=palette)\n",
    "# ax3.set_ylim(0.5, 1)\n",
    "vals = ax3.get_yticks()\n",
    "ax3.set_yticklabels(['{:3.0f}%'.format(x*100) for x in vals])\n",
    "ax3.legend_.remove()"
   ]
  },
  {
   "cell_type": "code",
   "execution_count": 550,
   "metadata": {},
   "outputs": [
    {
     "data": {
      "text/html": [
       "<div>\n",
       "<style scoped>\n",
       "    .dataframe tbody tr th:only-of-type {\n",
       "        vertical-align: middle;\n",
       "    }\n",
       "\n",
       "    .dataframe tbody tr th {\n",
       "        vertical-align: top;\n",
       "    }\n",
       "\n",
       "    .dataframe thead th {\n",
       "        text-align: right;\n",
       "    }\n",
       "</style>\n",
       "<table border=\"1\" class=\"dataframe\">\n",
       "  <thead>\n",
       "    <tr style=\"text-align: right;\">\n",
       "      <th></th>\n",
       "      <th>class_name</th>\n",
       "      <th>precision</th>\n",
       "      <th>recall</th>\n",
       "      <th>fscore</th>\n",
       "      <th>support</th>\n",
       "      <th>model</th>\n",
       "    </tr>\n",
       "  </thead>\n",
       "  <tbody>\n",
       "    <tr>\n",
       "      <th>0</th>\n",
       "      <td>Mammal</td>\n",
       "      <td>0.999236</td>\n",
       "      <td>1.000000</td>\n",
       "      <td>0.999579</td>\n",
       "      <td>10.9916</td>\n",
       "      <td>poly_svc</td>\n",
       "    </tr>\n",
       "    <tr>\n",
       "      <th>1</th>\n",
       "      <td>Bird</td>\n",
       "      <td>1.000000</td>\n",
       "      <td>1.000000</td>\n",
       "      <td>1.000000</td>\n",
       "      <td>5.0000</td>\n",
       "      <td>poly_svc</td>\n",
       "    </tr>\n",
       "    <tr>\n",
       "      <th>2</th>\n",
       "      <td>Reptile</td>\n",
       "      <td>0.598200</td>\n",
       "      <td>0.546745</td>\n",
       "      <td>0.563733</td>\n",
       "      <td>0.7527</td>\n",
       "      <td>poly_svc</td>\n",
       "    </tr>\n",
       "    <tr>\n",
       "      <th>3</th>\n",
       "      <td>Fish</td>\n",
       "      <td>1.000000</td>\n",
       "      <td>0.999600</td>\n",
       "      <td>0.999750</td>\n",
       "      <td>3.0020</td>\n",
       "      <td>poly_svc</td>\n",
       "    </tr>\n",
       "    <tr>\n",
       "      <th>4</th>\n",
       "      <td>Amphibian</td>\n",
       "      <td>0.851900</td>\n",
       "      <td>0.851900</td>\n",
       "      <td>0.851900</td>\n",
       "      <td>0.8519</td>\n",
       "      <td>poly_svc</td>\n",
       "    </tr>\n",
       "    <tr>\n",
       "      <th>5</th>\n",
       "      <td>Bug</td>\n",
       "      <td>0.882250</td>\n",
       "      <td>0.944900</td>\n",
       "      <td>0.896334</td>\n",
       "      <td>1.8463</td>\n",
       "      <td>poly_svc</td>\n",
       "    </tr>\n",
       "    <tr>\n",
       "      <th>6</th>\n",
       "      <td>Invertebrate</td>\n",
       "      <td>0.973900</td>\n",
       "      <td>0.850392</td>\n",
       "      <td>0.895140</td>\n",
       "      <td>3.5555</td>\n",
       "      <td>poly_svc</td>\n",
       "    </tr>\n",
       "    <tr>\n",
       "      <th>7</th>\n",
       "      <td>Mammal</td>\n",
       "      <td>0.989845</td>\n",
       "      <td>1.000000</td>\n",
       "      <td>0.994475</td>\n",
       "      <td>10.8883</td>\n",
       "      <td>linear_svc</td>\n",
       "    </tr>\n",
       "    <tr>\n",
       "      <th>8</th>\n",
       "      <td>Bird</td>\n",
       "      <td>1.000000</td>\n",
       "      <td>1.000000</td>\n",
       "      <td>1.000000</td>\n",
       "      <td>5.0000</td>\n",
       "      <td>linear_svc</td>\n",
       "    </tr>\n",
       "    <tr>\n",
       "      <th>9</th>\n",
       "      <td>Reptile</td>\n",
       "      <td>0.797700</td>\n",
       "      <td>0.676950</td>\n",
       "      <td>0.717200</td>\n",
       "      <td>1.0832</td>\n",
       "      <td>linear_svc</td>\n",
       "    </tr>\n",
       "    <tr>\n",
       "      <th>10</th>\n",
       "      <td>Fish</td>\n",
       "      <td>1.000000</td>\n",
       "      <td>0.927615</td>\n",
       "      <td>0.957379</td>\n",
       "      <td>3.3140</td>\n",
       "      <td>linear_svc</td>\n",
       "    </tr>\n",
       "    <tr>\n",
       "      <th>11</th>\n",
       "      <td>Amphibian</td>\n",
       "      <td>1.000000</td>\n",
       "      <td>1.000000</td>\n",
       "      <td>1.000000</td>\n",
       "      <td>1.0000</td>\n",
       "      <td>linear_svc</td>\n",
       "    </tr>\n",
       "    <tr>\n",
       "      <th>12</th>\n",
       "      <td>Bug</td>\n",
       "      <td>0.992200</td>\n",
       "      <td>0.858700</td>\n",
       "      <td>0.909893</td>\n",
       "      <td>2.4180</td>\n",
       "      <td>linear_svc</td>\n",
       "    </tr>\n",
       "    <tr>\n",
       "      <th>13</th>\n",
       "      <td>Invertebrate</td>\n",
       "      <td>0.760300</td>\n",
       "      <td>0.989010</td>\n",
       "      <td>0.833776</td>\n",
       "      <td>2.2965</td>\n",
       "      <td>linear_svc</td>\n",
       "    </tr>\n",
       "    <tr>\n",
       "      <th>14</th>\n",
       "      <td>Mammal</td>\n",
       "      <td>0.996518</td>\n",
       "      <td>1.000000</td>\n",
       "      <td>0.998135</td>\n",
       "      <td>10.9617</td>\n",
       "      <td>knc</td>\n",
       "    </tr>\n",
       "    <tr>\n",
       "      <th>15</th>\n",
       "      <td>Bird</td>\n",
       "      <td>1.000000</td>\n",
       "      <td>0.975933</td>\n",
       "      <td>0.986873</td>\n",
       "      <td>5.1444</td>\n",
       "      <td>knc</td>\n",
       "    </tr>\n",
       "    <tr>\n",
       "      <th>16</th>\n",
       "      <td>Reptile</td>\n",
       "      <td>0.597500</td>\n",
       "      <td>0.541533</td>\n",
       "      <td>0.559983</td>\n",
       "      <td>0.8079</td>\n",
       "      <td>knc</td>\n",
       "    </tr>\n",
       "    <tr>\n",
       "      <th>17</th>\n",
       "      <td>Fish</td>\n",
       "      <td>1.000000</td>\n",
       "      <td>0.941380</td>\n",
       "      <td>0.966187</td>\n",
       "      <td>3.2406</td>\n",
       "      <td>knc</td>\n",
       "    </tr>\n",
       "    <tr>\n",
       "      <th>18</th>\n",
       "      <td>Amphibian</td>\n",
       "      <td>0.954400</td>\n",
       "      <td>0.927300</td>\n",
       "      <td>0.936333</td>\n",
       "      <td>1.0086</td>\n",
       "      <td>knc</td>\n",
       "    </tr>\n",
       "    <tr>\n",
       "      <th>19</th>\n",
       "      <td>Bug</td>\n",
       "      <td>0.940450</td>\n",
       "      <td>0.827400</td>\n",
       "      <td>0.858740</td>\n",
       "      <td>2.3847</td>\n",
       "      <td>knc</td>\n",
       "    </tr>\n",
       "    <tr>\n",
       "      <th>20</th>\n",
       "      <td>Invertebrate</td>\n",
       "      <td>0.777133</td>\n",
       "      <td>0.964942</td>\n",
       "      <td>0.836171</td>\n",
       "      <td>2.4521</td>\n",
       "      <td>knc</td>\n",
       "    </tr>\n",
       "  </tbody>\n",
       "</table>\n",
       "</div>"
      ],
      "text/plain": [
       "      class_name  precision    recall    fscore  support       model\n",
       "0         Mammal   0.999236  1.000000  0.999579  10.9916    poly_svc\n",
       "1           Bird   1.000000  1.000000  1.000000   5.0000    poly_svc\n",
       "2        Reptile   0.598200  0.546745  0.563733   0.7527    poly_svc\n",
       "3           Fish   1.000000  0.999600  0.999750   3.0020    poly_svc\n",
       "4      Amphibian   0.851900  0.851900  0.851900   0.8519    poly_svc\n",
       "5            Bug   0.882250  0.944900  0.896334   1.8463    poly_svc\n",
       "6   Invertebrate   0.973900  0.850392  0.895140   3.5555    poly_svc\n",
       "7         Mammal   0.989845  1.000000  0.994475  10.8883  linear_svc\n",
       "8           Bird   1.000000  1.000000  1.000000   5.0000  linear_svc\n",
       "9        Reptile   0.797700  0.676950  0.717200   1.0832  linear_svc\n",
       "10          Fish   1.000000  0.927615  0.957379   3.3140  linear_svc\n",
       "11     Amphibian   1.000000  1.000000  1.000000   1.0000  linear_svc\n",
       "12           Bug   0.992200  0.858700  0.909893   2.4180  linear_svc\n",
       "13  Invertebrate   0.760300  0.989010  0.833776   2.2965  linear_svc\n",
       "14        Mammal   0.996518  1.000000  0.998135  10.9617         knc\n",
       "15          Bird   1.000000  0.975933  0.986873   5.1444         knc\n",
       "16       Reptile   0.597500  0.541533  0.559983   0.8079         knc\n",
       "17          Fish   1.000000  0.941380  0.966187   3.2406         knc\n",
       "18     Amphibian   0.954400  0.927300  0.936333   1.0086         knc\n",
       "19           Bug   0.940450  0.827400  0.858740   2.3847         knc\n",
       "20  Invertebrate   0.777133  0.964942  0.836171   2.4521         knc"
      ]
     },
     "execution_count": 550,
     "metadata": {},
     "output_type": "execute_result"
    }
   ],
   "source": [
    "average_scores"
   ]
  },
  {
   "cell_type": "code",
   "execution_count": 551,
   "metadata": {
    "collapsed": true
   },
   "outputs": [],
   "source": [
    "fscores = average_scores[['model', 'class_name', 'fscore']]"
   ]
  },
  {
   "cell_type": "code",
   "execution_count": 552,
   "metadata": {
    "collapsed": true
   },
   "outputs": [],
   "source": [
    "fscores = fscores.pivot(index='model', columns='class_name', values='fscore').reset_index()"
   ]
  },
  {
   "cell_type": "code",
   "execution_count": 553,
   "metadata": {
    "collapsed": true
   },
   "outputs": [],
   "source": [
    "fscores.model = ['Support Vector Machine (Polynomial Kernel)', 'Support Vector Machine (Linear Kernel)', 'K Neighbors Classifier']"
   ]
  },
  {
   "cell_type": "code",
   "execution_count": 554,
   "metadata": {},
   "outputs": [
    {
     "data": {
      "text/plain": [
       "Text(0.5,1.1,'Model F-scores by Class')"
      ]
     },
     "execution_count": 554,
     "metadata": {},
     "output_type": "execute_result"
    },
    {
     "data": {
      "image/png": "[encoded data removed]",
      "text/plain": [
       "<matplotlib.figure.Figure at 0x1c8a0e9af28>"
      ]
     },
     "metadata": {},
     "output_type": "display_data"
    }
   ],
   "source": [
    "from math import pi\n",
    "\n",
    "\n",
    "# number of variable\n",
    "categories = list(fscores)[1:]\n",
    "N = len(categories)\n",
    "\n",
    "# Angle calcs\n",
    "angles = [n / float(N) * 2 * pi for n in range(N)]\n",
    "angles += angles[:1]\n",
    "\n",
    "# Value calcs\n",
    "fig = plt.figure(figsize=(8,6))\n",
    "ax = fig.add_subplot(111, projection='polar')\n",
    "\n",
    "plt.xticks(angles[:-1], categories, color='grey', size=12)\n",
    "\n",
    "# Put the first axis on top\n",
    "ax.set_theta_offset(pi / 2)\n",
    "ax.set_theta_direction(-1)\n",
    "\n",
    "# Draw ylabels\n",
    "ax.set_rlabel_position(0)\n",
    "plt.yticks([.50, .60, .70, .80, .90], [\"20%\",\"40%\",\"60%\",\"80%\"], color=\"grey\", size=7)\n",
    "plt.ylim(0.5,1)\n",
    "\n",
    "for model,color in list(zip(precisions.model, ['r', 'b', 'g'])):\n",
    "    values = fscores[fscores.model == model].drop('model', 1).values.flatten().tolist()\n",
    "    values += values[:1]\n",
    "    ax.plot(angles, values, linewidth=2, linestyle='solid')\n",
    "\n",
    "ax.legend(fscores.model.values, loc=(0.9, .95), labelspacing=0.1, fontsize='medium')\n",
    "# # Add a title\n",
    "plt.title('Model F-scores by Class', size=14, color='black', y=1.1)\n"
   ]
  },
  {
   "cell_type": "markdown",
   "metadata": {},
   "source": [
    "| Model  | Accuracy  |\n",
    "|:-------|----------:|\n",
    "| SVC    | 97.43%    |\n",
    "| BNB    | 95.33%    |\n",
    "| KNC    | 95.10%    |\n",
    "| GBM    | 96.43%    |\n",
    "| MLP    | 96.47%    |\n",
    "| RF     | 96.58%    |"
   ]
  },
  {
   "cell_type": "code",
   "execution_count": 42,
   "metadata": {
    "collapsed": true
   },
   "outputs": [],
   "source": [
    "bad_df = pd.DataFrame(bad, columns=['model', 'animal_name'])\n",
    "bad_df = bad_df.merge(pd.DataFrame(animal_names), how='left')"
   ]
  },
  {
   "cell_type": "code",
   "execution_count": 43,
   "metadata": {
    "collapsed": true
   },
   "outputs": [
    {
     "data": {
      "text/html": [
       "<div>\n",
       "<style scoped>\n",
       "    .dataframe tbody tr th:only-of-type {\n",
       "        vertical-align: middle;\n",
       "    }\n",
       "\n",
       "    .dataframe tbody tr th {\n",
       "        vertical-align: top;\n",
       "    }\n",
       "\n",
       "    .dataframe thead th {\n",
       "        text-align: right;\n",
       "    }\n",
       "</style>\n",
       "<table border=\"1\" class=\"dataframe\">\n",
       "  <thead>\n",
       "    <tr style=\"text-align: right;\">\n",
       "      <th></th>\n",
       "      <th>model</th>\n",
       "      <th>animal_name</th>\n",
       "      <th>cnt</th>\n",
       "      <th>class_name</th>\n",
       "    </tr>\n",
       "  </thead>\n",
       "  <tbody>\n",
       "    <tr>\n",
       "      <th>11</th>\n",
       "      <td>svc</td>\n",
       "      <td>dove</td>\n",
       "      <td>17</td>\n",
       "      <td>Bird</td>\n",
       "    </tr>\n",
       "    <tr>\n",
       "      <th>23</th>\n",
       "      <td>svc</td>\n",
       "      <td>mongoose</td>\n",
       "      <td>15</td>\n",
       "      <td>Mammal</td>\n",
       "    </tr>\n",
       "    <tr>\n",
       "      <th>243</th>\n",
       "      <td>svc</td>\n",
       "      <td>ostrich</td>\n",
       "      <td>12</td>\n",
       "      <td>Bird</td>\n",
       "    </tr>\n",
       "    <tr>\n",
       "      <th>283</th>\n",
       "      <td>svc</td>\n",
       "      <td>lion</td>\n",
       "      <td>12</td>\n",
       "      <td>Mammal</td>\n",
       "    </tr>\n",
       "    <tr>\n",
       "      <th>59</th>\n",
       "      <td>svc</td>\n",
       "      <td>bass</td>\n",
       "      <td>11</td>\n",
       "      <td>Fish</td>\n",
       "    </tr>\n",
       "    <tr>\n",
       "      <th>95</th>\n",
       "      <td>svc</td>\n",
       "      <td>girl</td>\n",
       "      <td>11</td>\n",
       "      <td>Mammal</td>\n",
       "    </tr>\n",
       "    <tr>\n",
       "      <th>15</th>\n",
       "      <td>svc</td>\n",
       "      <td>hamster</td>\n",
       "      <td>10</td>\n",
       "      <td>Mammal</td>\n",
       "    </tr>\n",
       "    <tr>\n",
       "      <th>19</th>\n",
       "      <td>svc</td>\n",
       "      <td>flea</td>\n",
       "      <td>10</td>\n",
       "      <td>Bug</td>\n",
       "    </tr>\n",
       "    <tr>\n",
       "      <th>39</th>\n",
       "      <td>svc</td>\n",
       "      <td>oryx</td>\n",
       "      <td>10</td>\n",
       "      <td>Mammal</td>\n",
       "    </tr>\n",
       "    <tr>\n",
       "      <th>63</th>\n",
       "      <td>svc</td>\n",
       "      <td>pike</td>\n",
       "      <td>10</td>\n",
       "      <td>Fish</td>\n",
       "    </tr>\n",
       "    <tr>\n",
       "      <th>159</th>\n",
       "      <td>svc</td>\n",
       "      <td>porpoise</td>\n",
       "      <td>10</td>\n",
       "      <td>Mammal</td>\n",
       "    </tr>\n",
       "    <tr>\n",
       "      <th>3</th>\n",
       "      <td>svc</td>\n",
       "      <td>gnat</td>\n",
       "      <td>9</td>\n",
       "      <td>Bug</td>\n",
       "    </tr>\n",
       "    <tr>\n",
       "      <th>7</th>\n",
       "      <td>svc</td>\n",
       "      <td>chub</td>\n",
       "      <td>9</td>\n",
       "      <td>Fish</td>\n",
       "    </tr>\n",
       "    <tr>\n",
       "      <th>43</th>\n",
       "      <td>svc</td>\n",
       "      <td>carp</td>\n",
       "      <td>9</td>\n",
       "      <td>Fish</td>\n",
       "    </tr>\n",
       "    <tr>\n",
       "      <th>75</th>\n",
       "      <td>svc</td>\n",
       "      <td>tuna</td>\n",
       "      <td>9</td>\n",
       "      <td>Fish</td>\n",
       "    </tr>\n",
       "    <tr>\n",
       "      <th>103</th>\n",
       "      <td>svc</td>\n",
       "      <td>hare</td>\n",
       "      <td>9</td>\n",
       "      <td>Mammal</td>\n",
       "    </tr>\n",
       "    <tr>\n",
       "      <th>295</th>\n",
       "      <td>svc</td>\n",
       "      <td>sealion</td>\n",
       "      <td>9</td>\n",
       "      <td>Mammal</td>\n",
       "    </tr>\n",
       "    <tr>\n",
       "      <th>31</th>\n",
       "      <td>svc</td>\n",
       "      <td>wallaby</td>\n",
       "      <td>8</td>\n",
       "      <td>Mammal</td>\n",
       "    </tr>\n",
       "    <tr>\n",
       "      <th>71</th>\n",
       "      <td>svc</td>\n",
       "      <td>antelope</td>\n",
       "      <td>8</td>\n",
       "      <td>Mammal</td>\n",
       "    </tr>\n",
       "    <tr>\n",
       "      <th>135</th>\n",
       "      <td>svc</td>\n",
       "      <td>catfish</td>\n",
       "      <td>8</td>\n",
       "      <td>Fish</td>\n",
       "    </tr>\n",
       "    <tr>\n",
       "      <th>139</th>\n",
       "      <td>svc</td>\n",
       "      <td>chicken</td>\n",
       "      <td>8</td>\n",
       "      <td>Bird</td>\n",
       "    </tr>\n",
       "    <tr>\n",
       "      <th>163</th>\n",
       "      <td>svc</td>\n",
       "      <td>slowworm</td>\n",
       "      <td>8</td>\n",
       "      <td>Reptile</td>\n",
       "    </tr>\n",
       "    <tr>\n",
       "      <th>171</th>\n",
       "      <td>svc</td>\n",
       "      <td>polecat</td>\n",
       "      <td>8</td>\n",
       "      <td>Mammal</td>\n",
       "    </tr>\n",
       "    <tr>\n",
       "      <th>195</th>\n",
       "      <td>svc</td>\n",
       "      <td>sole</td>\n",
       "      <td>8</td>\n",
       "      <td>Fish</td>\n",
       "    </tr>\n",
       "    <tr>\n",
       "      <th>207</th>\n",
       "      <td>svc</td>\n",
       "      <td>worm</td>\n",
       "      <td>8</td>\n",
       "      <td>Invertebrate</td>\n",
       "    </tr>\n",
       "    <tr>\n",
       "      <th>223</th>\n",
       "      <td>svc</td>\n",
       "      <td>frog2</td>\n",
       "      <td>8</td>\n",
       "      <td>Amphibian</td>\n",
       "    </tr>\n",
       "    <tr>\n",
       "      <th>303</th>\n",
       "      <td>svc</td>\n",
       "      <td>vulture</td>\n",
       "      <td>8</td>\n",
       "      <td>Bird</td>\n",
       "    </tr>\n",
       "    <tr>\n",
       "      <th>331</th>\n",
       "      <td>svc</td>\n",
       "      <td>pheasant</td>\n",
       "      <td>8</td>\n",
       "      <td>Bird</td>\n",
       "    </tr>\n",
       "    <tr>\n",
       "      <th>359</th>\n",
       "      <td>svc</td>\n",
       "      <td>newt</td>\n",
       "      <td>8</td>\n",
       "      <td>Amphibian</td>\n",
       "    </tr>\n",
       "    <tr>\n",
       "      <th>371</th>\n",
       "      <td>svc</td>\n",
       "      <td>scorpion</td>\n",
       "      <td>8</td>\n",
       "      <td>Invertebrate</td>\n",
       "    </tr>\n",
       "    <tr>\n",
       "      <th>...</th>\n",
       "      <td>...</td>\n",
       "      <td>...</td>\n",
       "      <td>...</td>\n",
       "      <td>...</td>\n",
       "    </tr>\n",
       "    <tr>\n",
       "      <th>284</th>\n",
       "      <td>bnb</td>\n",
       "      <td>puma</td>\n",
       "      <td>10</td>\n",
       "      <td>Mammal</td>\n",
       "    </tr>\n",
       "    <tr>\n",
       "      <th>288</th>\n",
       "      <td>bnb</td>\n",
       "      <td>reindeer</td>\n",
       "      <td>10</td>\n",
       "      <td>Mammal</td>\n",
       "    </tr>\n",
       "    <tr>\n",
       "      <th>292</th>\n",
       "      <td>bnb</td>\n",
       "      <td>sealion</td>\n",
       "      <td>10</td>\n",
       "      <td>Mammal</td>\n",
       "    </tr>\n",
       "    <tr>\n",
       "      <th>296</th>\n",
       "      <td>bnb</td>\n",
       "      <td>sparrow</td>\n",
       "      <td>10</td>\n",
       "      <td>Bird</td>\n",
       "    </tr>\n",
       "    <tr>\n",
       "      <th>300</th>\n",
       "      <td>bnb</td>\n",
       "      <td>vulture</td>\n",
       "      <td>10</td>\n",
       "      <td>Bird</td>\n",
       "    </tr>\n",
       "    <tr>\n",
       "      <th>304</th>\n",
       "      <td>bnb</td>\n",
       "      <td>wolf</td>\n",
       "      <td>10</td>\n",
       "      <td>Mammal</td>\n",
       "    </tr>\n",
       "    <tr>\n",
       "      <th>308</th>\n",
       "      <td>bnb</td>\n",
       "      <td>aardvark</td>\n",
       "      <td>9</td>\n",
       "      <td>Mammal</td>\n",
       "    </tr>\n",
       "    <tr>\n",
       "      <th>312</th>\n",
       "      <td>bnb</td>\n",
       "      <td>cavy</td>\n",
       "      <td>9</td>\n",
       "      <td>Mammal</td>\n",
       "    </tr>\n",
       "    <tr>\n",
       "      <th>316</th>\n",
       "      <td>bnb</td>\n",
       "      <td>cheetah</td>\n",
       "      <td>9</td>\n",
       "      <td>Mammal</td>\n",
       "    </tr>\n",
       "    <tr>\n",
       "      <th>320</th>\n",
       "      <td>bnb</td>\n",
       "      <td>crab</td>\n",
       "      <td>9</td>\n",
       "      <td>Invertebrate</td>\n",
       "    </tr>\n",
       "    <tr>\n",
       "      <th>324</th>\n",
       "      <td>bnb</td>\n",
       "      <td>haddock</td>\n",
       "      <td>9</td>\n",
       "      <td>Fish</td>\n",
       "    </tr>\n",
       "    <tr>\n",
       "      <th>328</th>\n",
       "      <td>bnb</td>\n",
       "      <td>pheasant</td>\n",
       "      <td>9</td>\n",
       "      <td>Bird</td>\n",
       "    </tr>\n",
       "    <tr>\n",
       "      <th>332</th>\n",
       "      <td>bnb</td>\n",
       "      <td>piranha</td>\n",
       "      <td>9</td>\n",
       "      <td>Fish</td>\n",
       "    </tr>\n",
       "    <tr>\n",
       "      <th>336</th>\n",
       "      <td>bnb</td>\n",
       "      <td>skimmer</td>\n",
       "      <td>9</td>\n",
       "      <td>Bird</td>\n",
       "    </tr>\n",
       "    <tr>\n",
       "      <th>340</th>\n",
       "      <td>bnb</td>\n",
       "      <td>squirrel</td>\n",
       "      <td>9</td>\n",
       "      <td>Mammal</td>\n",
       "    </tr>\n",
       "    <tr>\n",
       "      <th>344</th>\n",
       "      <td>bnb</td>\n",
       "      <td>vampire</td>\n",
       "      <td>9</td>\n",
       "      <td>Mammal</td>\n",
       "    </tr>\n",
       "    <tr>\n",
       "      <th>348</th>\n",
       "      <td>bnb</td>\n",
       "      <td>seahorse</td>\n",
       "      <td>8</td>\n",
       "      <td>Fish</td>\n",
       "    </tr>\n",
       "    <tr>\n",
       "      <th>352</th>\n",
       "      <td>bnb</td>\n",
       "      <td>moth</td>\n",
       "      <td>7</td>\n",
       "      <td>Bug</td>\n",
       "    </tr>\n",
       "    <tr>\n",
       "      <th>356</th>\n",
       "      <td>bnb</td>\n",
       "      <td>newt</td>\n",
       "      <td>7</td>\n",
       "      <td>Amphibian</td>\n",
       "    </tr>\n",
       "    <tr>\n",
       "      <th>360</th>\n",
       "      <td>bnb</td>\n",
       "      <td>pony</td>\n",
       "      <td>7</td>\n",
       "      <td>Mammal</td>\n",
       "    </tr>\n",
       "    <tr>\n",
       "      <th>364</th>\n",
       "      <td>bnb</td>\n",
       "      <td>rhea</td>\n",
       "      <td>7</td>\n",
       "      <td>Bird</td>\n",
       "    </tr>\n",
       "    <tr>\n",
       "      <th>368</th>\n",
       "      <td>bnb</td>\n",
       "      <td>scorpion</td>\n",
       "      <td>7</td>\n",
       "      <td>Invertebrate</td>\n",
       "    </tr>\n",
       "    <tr>\n",
       "      <th>372</th>\n",
       "      <td>bnb</td>\n",
       "      <td>seasnake</td>\n",
       "      <td>7</td>\n",
       "      <td>Reptile</td>\n",
       "    </tr>\n",
       "    <tr>\n",
       "      <th>376</th>\n",
       "      <td>bnb</td>\n",
       "      <td>wasp</td>\n",
       "      <td>7</td>\n",
       "      <td>Bug</td>\n",
       "    </tr>\n",
       "    <tr>\n",
       "      <th>380</th>\n",
       "      <td>bnb</td>\n",
       "      <td>bear</td>\n",
       "      <td>6</td>\n",
       "      <td>Mammal</td>\n",
       "    </tr>\n",
       "    <tr>\n",
       "      <th>384</th>\n",
       "      <td>bnb</td>\n",
       "      <td>herring</td>\n",
       "      <td>6</td>\n",
       "      <td>Fish</td>\n",
       "    </tr>\n",
       "    <tr>\n",
       "      <th>388</th>\n",
       "      <td>bnb</td>\n",
       "      <td>mink</td>\n",
       "      <td>6</td>\n",
       "      <td>Mammal</td>\n",
       "    </tr>\n",
       "    <tr>\n",
       "      <th>392</th>\n",
       "      <td>bnb</td>\n",
       "      <td>platypus</td>\n",
       "      <td>6</td>\n",
       "      <td>Mammal</td>\n",
       "    </tr>\n",
       "    <tr>\n",
       "      <th>396</th>\n",
       "      <td>bnb</td>\n",
       "      <td>dolphin</td>\n",
       "      <td>5</td>\n",
       "      <td>Mammal</td>\n",
       "    </tr>\n",
       "    <tr>\n",
       "      <th>400</th>\n",
       "      <td>bnb</td>\n",
       "      <td>deer</td>\n",
       "      <td>3</td>\n",
       "      <td>Mammal</td>\n",
       "    </tr>\n",
       "  </tbody>\n",
       "</table>\n",
       "<p>404 rows × 4 columns</p>\n",
       "</div>"
      ],
      "text/plain": [
       "    model animal_name  cnt    class_name\n",
       "11    svc        dove   17          Bird\n",
       "23    svc    mongoose   15        Mammal\n",
       "243   svc     ostrich   12          Bird\n",
       "283   svc        lion   12        Mammal\n",
       "59    svc        bass   11          Fish\n",
       "95    svc        girl   11        Mammal\n",
       "15    svc     hamster   10        Mammal\n",
       "19    svc        flea   10           Bug\n",
       "39    svc        oryx   10        Mammal\n",
       "63    svc        pike   10          Fish\n",
       "159   svc    porpoise   10        Mammal\n",
       "3     svc        gnat    9           Bug\n",
       "7     svc        chub    9          Fish\n",
       "43    svc        carp    9          Fish\n",
       "75    svc        tuna    9          Fish\n",
       "103   svc        hare    9        Mammal\n",
       "295   svc     sealion    9        Mammal\n",
       "31    svc     wallaby    8        Mammal\n",
       "71    svc    antelope    8        Mammal\n",
       "135   svc     catfish    8          Fish\n",
       "139   svc     chicken    8          Bird\n",
       "163   svc    slowworm    8       Reptile\n",
       "171   svc     polecat    8        Mammal\n",
       "195   svc        sole    8          Fish\n",
       "207   svc        worm    8  Invertebrate\n",
       "223   svc       frog2    8     Amphibian\n",
       "303   svc     vulture    8          Bird\n",
       "331   svc    pheasant    8          Bird\n",
       "359   svc        newt    8     Amphibian\n",
       "371   svc    scorpion    8  Invertebrate\n",
       "..    ...         ...  ...           ...\n",
       "284   bnb        puma   10        Mammal\n",
       "288   bnb    reindeer   10        Mammal\n",
       "292   bnb     sealion   10        Mammal\n",
       "296   bnb     sparrow   10          Bird\n",
       "300   bnb     vulture   10          Bird\n",
       "304   bnb        wolf   10        Mammal\n",
       "308   bnb    aardvark    9        Mammal\n",
       "312   bnb        cavy    9        Mammal\n",
       "316   bnb     cheetah    9        Mammal\n",
       "320   bnb        crab    9  Invertebrate\n",
       "324   bnb     haddock    9          Fish\n",
       "328   bnb    pheasant    9          Bird\n",
       "332   bnb     piranha    9          Fish\n",
       "336   bnb     skimmer    9          Bird\n",
       "340   bnb    squirrel    9        Mammal\n",
       "344   bnb     vampire    9        Mammal\n",
       "348   bnb    seahorse    8          Fish\n",
       "352   bnb        moth    7           Bug\n",
       "356   bnb        newt    7     Amphibian\n",
       "360   bnb        pony    7        Mammal\n",
       "364   bnb        rhea    7          Bird\n",
       "368   bnb    scorpion    7  Invertebrate\n",
       "372   bnb    seasnake    7       Reptile\n",
       "376   bnb        wasp    7           Bug\n",
       "380   bnb        bear    6        Mammal\n",
       "384   bnb     herring    6          Fish\n",
       "388   bnb        mink    6        Mammal\n",
       "392   bnb    platypus    6        Mammal\n",
       "396   bnb     dolphin    5        Mammal\n",
       "400   bnb        deer    3        Mammal\n",
       "\n",
       "[404 rows x 4 columns]"
      ]
     },
     "execution_count": 43,
     "metadata": {},
     "output_type": "execute_result"
    }
   ],
   "source": [
    "animal_counts = pd.DataFrame(bad_df.groupby('model').animal_name.value_counts())\n",
    "animal_counts.columns = ['cnt']\n",
    "animal_counts = animal_counts.reset_index()\n",
    "animal_counts = animal_counts.merge(animal_names)\n",
    "\n",
    "animal_counts = animal_counts.sort_values(['model', 'cnt'], ascending=False)"
   ]
  },
  {
   "cell_type": "code",
   "execution_count": 44,
   "metadata": {
    "collapsed": true
   },
   "outputs": [],
   "source": [
    "class_counts = pd.DataFrame(animal_names.groupby(['class_name']).count()).reset_index()\n",
    "animal_counts = animal_counts.merge(class_counts, on='class_name', how='left', suffixes=('_animal', '_class'))"
   ]
  },
  {
   "cell_type": "code",
   "execution_count": 46,
   "metadata": {},
   "outputs": [
    {
     "data": {
      "text/plain": [
       "animal_name_animal\n",
       "dove        71\n",
       "mongoose    65\n",
       "flea        60\n",
       "gnat        60\n",
       "oryx        57\n",
       "Name: cnt, dtype: int64"
      ]
     },
     "execution_count": 46,
     "metadata": {},
     "output_type": "execute_result"
    }
   ],
   "source": [
    "animal_counts.groupby('animal_name_animal').cnt.sum().sort_values(ascending=False).head(5)"
   ]
  },
  {
   "cell_type": "markdown",
   "metadata": {},
   "source": [
    "## Jackknife Cross-Validation\n",
    "\n",
    "Since our dataset is so small, we will try leave-one-out cross-validation. This can be thought of as k-fold cross-validation where k=n."
   ]
  },
  {
   "cell_type": "code",
   "execution_count": 38,
   "metadata": {
    "collapsed": true
   },
   "outputs": [],
   "source": [
    "from sklearn.neighbors import KNeighborsClassifier\n",
    "from sklearn.svm import SVC\n",
    "from sklearn.neural_network import MLPClassifier\n",
    "from sklearn.ensemble import GradientBoostingClassifier, RandomForestClassifier\n",
    "from sklearn.model_selection import LeaveOneOut"
   ]
  },
  {
   "cell_type": "code",
   "execution_count": 39,
   "metadata": {
    "collapsed": true
   },
   "outputs": [],
   "source": [
    "wrong_dfs = []"
   ]
  },
  {
   "cell_type": "code",
   "execution_count": 154,
   "metadata": {
    "collapsed": true
   },
   "outputs": [],
   "source": [
    "def jackknife_cv(X, y, est='SVC', ts=False):\n",
    "    est = est.lower()\n",
    "    if est == 'poly_svc':\n",
    "        params = {'C': .01, 'gamma': 1, 'kernel': 'poly', 'class_weight': 'balanced'}\n",
    "        model = SVC(**params).fit(X_train.drop(['animal_name'], axis=1), y_train)\n",
    "    elif est == 'linear_svc':\n",
    "        params = {'C': .1, 'kernel': 'linear', 'class_weight': 'balanced'}\n",
    "        model = SVC(**params).fit(X_train.drop(['animal_name'], axis=1), y_train)\n",
    "    elif est == 'rbf_svc':\n",
    "        params = {'C': .1, 'gamma': 1, 'kernel': 'rbf', 'class_weight': 'balanced'}\n",
    "        model = SVC(**params).fit(X_train.drop(['animal_name'], axis=1), y_train)\n",
    "    elif est == 'bnb':\n",
    "        params = {'alpha': 1, 'fit_prior': True}\n",
    "        model = BernoulliNB(**params)\n",
    "    elif est == 'knc':\n",
    "        params = {'n_neighbors': 3, 'metric': 'euclidean'}\n",
    "        model = KNeighborsClassifier(**params)\n",
    "    elif est == 'gbm':\n",
    "        params = {'n_estimators': 20, 'max_depth': 5, 'max_features': 19, 'min_samples_split': 15}\n",
    "        model = GradientBoostingClassifier(**params)\n",
    "    elif est == 'mlp':\n",
    "        model = MLPClassifier()\n",
    "    elif est == 'rf':\n",
    "        model = RandomForestClassifier()\n",
    "    else:\n",
    "        raise ValueError('est parameter must be svc, knc, gbm, or mlp')\n",
    "    \n",
    "    scores = []\n",
    "    wrong = []\n",
    "    for train_index, test_index in LeaveOneOut().split(X.drop('animal_name', 1)):\n",
    "        X_train, X_test = X.drop('animal_name', 1).loc[train_index], X.drop('animal_name', 1).loc[test_index]\n",
    "        y_train, y_test = y[train_index], y[test_index]\n",
    "        model.fit(X_train, y_train)\n",
    "        scores.append(model.score(X_test, y_test))\n",
    "        if not ts:\n",
    "            if y_test[0] != model.predict(X_test)[0]:\n",
    "                wrong.append(test_index[0])\n",
    "    \n",
    "    return scores, wrong"
   ]
  },
  {
   "cell_type": "code",
   "execution_count": 155,
   "metadata": {},
   "outputs": [
    {
     "name": "stdout",
     "output_type": "stream",
     "text": [
      "The average accuracy for SVC with jackknife cross-validation was 97.03%.\n"
     ]
    }
   ],
   "source": [
    "wrong_dfs = []\n",
    "for est in estimators:\n",
    "    scores, wrong = jackknife_cv(X, y, est)\n",
    "    print('The average accuracy for ' + est.upper() + ' with jackknife cross-validation was {:.2%}.'.format(np.mean(scores)))\n",
    "    wrong_dfs.append((est, animal_names.iloc[wrong]))"
   ]
  },
  {
   "cell_type": "markdown",
   "metadata": {},
   "source": [
    "## Which samples are difficult to predict?"
   ]
  },
  {
   "cell_type": "code",
   "execution_count": 47,
   "metadata": {},
   "outputs": [
    {
     "name": "stdout",
     "output_type": "stream",
     "text": [
      "svc\n",
      "   animal_name class_name\n",
      "94        newt  Amphibian\n",
      "97    seasnake    Reptile\n",
      "99    tortoise    Reptile\n",
      "bnb\n",
      "   animal_name    class_name\n",
      "79    scorpion  Invertebrate\n",
      "81        slug  Invertebrate\n",
      "83        worm  Invertebrate\n",
      "94        newt     Amphibian\n",
      "97    seasnake       Reptile\n",
      "99    tortoise       Reptile\n",
      "knc\n",
      "   animal_name    class_name\n",
      "81        slug  Invertebrate\n",
      "83        worm  Invertebrate\n",
      "84        flea           Bug\n",
      "90     termite           Bug\n",
      "97    seasnake       Reptile\n",
      "gbm\n",
      "   animal_name    class_name\n",
      "77     lobster  Invertebrate\n",
      "79    scorpion  Invertebrate\n",
      "97    seasnake       Reptile\n"
     ]
    }
   ],
   "source": [
    "for est,df in wrong_dfs:\n",
    "    print(est)\n",
    "    print(df)"
   ]
  },
  {
   "cell_type": "code",
   "execution_count": 48,
   "metadata": {
    "collapsed": true
   },
   "outputs": [],
   "source": [
    "dfs = [df.reset_index() for _, df in wrong_dfs]"
   ]
  },
  {
   "cell_type": "code",
   "execution_count": 49,
   "metadata": {
    "collapsed": true
   },
   "outputs": [],
   "source": [
    "wrong = pd.concat(dfs)"
   ]
  },
  {
   "cell_type": "markdown",
   "metadata": {},
   "source": [
    "### Incorrect Predictions by Class"
   ]
  },
  {
   "cell_type": "code",
   "execution_count": 50,
   "metadata": {},
   "outputs": [
    {
     "data": {
      "text/plain": [
       "class_name\n",
       "Amphibian       2\n",
       "Bug             2\n",
       "Invertebrate    7\n",
       "Reptile         6\n",
       "dtype: int64"
      ]
     },
     "execution_count": 50,
     "metadata": {},
     "output_type": "execute_result"
    }
   ],
   "source": [
    "wrong.groupby('class_name').apply(lambda x: x.shape[0])"
   ]
  },
  {
   "cell_type": "markdown",
   "metadata": {},
   "source": [
    "### Incorrect Predictions by Animal"
   ]
  },
  {
   "cell_type": "code",
   "execution_count": 51,
   "metadata": {},
   "outputs": [
    {
     "data": {
      "text/plain": [
       "animal_name\n",
       "flea        1\n",
       "lobster     1\n",
       "newt        2\n",
       "scorpion    2\n",
       "seasnake    4\n",
       "slug        2\n",
       "termite     1\n",
       "tortoise    2\n",
       "worm        2\n",
       "dtype: int64"
      ]
     },
     "execution_count": 51,
     "metadata": {},
     "output_type": "execute_result"
    }
   ],
   "source": [
    "wrong.groupby('animal_name').apply(lambda x: x.shape[0])"
   ]
  },
  {
   "cell_type": "markdown",
   "metadata": {},
   "source": [
    "# Feature Selection\n",
    "\n",
    "Let's see if we can remove some redundant features and make our model more generalizable. "
   ]
  },
  {
   "cell_type": "code",
   "execution_count": 52,
   "metadata": {
    "collapsed": true
   },
   "outputs": [],
   "source": [
    "selector = RFECV(svc, step=1, cv=3)\n",
    "selector = selector.fit(X.drop('animal_name', 1), y)"
   ]
  },
  {
   "cell_type": "code",
   "execution_count": 53,
   "metadata": {
    "collapsed": true
   },
   "outputs": [],
   "source": [
    "important_features = pd.Series(X.drop('animal_name', 1).columns)[selector.support_]"
   ]
  },
  {
   "cell_type": "code",
   "execution_count": 55,
   "metadata": {},
   "outputs": [
    {
     "data": {
      "text/plain": [
       "0         hair\n",
       "1     feathers\n",
       "2         eggs\n",
       "3         milk\n",
       "4     airborne\n",
       "5      aquatic\n",
       "7      toothed\n",
       "8     backbone\n",
       "9     breathes\n",
       "11        fins\n",
       "12        tail\n",
       "15      2_legs\n",
       "16      4_legs\n",
       "18      6_legs\n",
       "dtype: object"
      ]
     },
     "execution_count": 55,
     "metadata": {},
     "output_type": "execute_result"
    }
   ],
   "source": [
    "important_features"
   ]
  },
  {
   "cell_type": "markdown",
   "metadata": {},
   "source": [
    "Let's try a support vector machine with only the import features...."
   ]
  },
  {
   "cell_type": "code",
   "execution_count": 57,
   "metadata": {},
   "outputs": [
    {
     "data": {
      "text/plain": [
       "1.0"
      ]
     },
     "execution_count": 57,
     "metadata": {},
     "output_type": "execute_result"
    }
   ],
   "source": [
    "params = {'C': .1, 'gamma': 1, 'kernel': 'poly'}\n",
    "svc = SVC(**params).fit(X[important_features], y)\n",
    "svc.score(X[important_features], y)"
   ]
  },
  {
   "cell_type": "markdown",
   "metadata": {},
   "source": [
    "Looks like we still got 100% on the full dataset!! That's a good sign. Let's see if we can get comparable accuracy with leave-one-out cross-validation."
   ]
  },
  {
   "cell_type": "code",
   "execution_count": 469,
   "metadata": {},
   "outputs": [
    {
     "name": "stdout",
     "output_type": "stream",
     "text": [
      "The average accuracy for SVC with jackknife cross-validation was 98.02%.\n"
     ]
    }
   ],
   "source": [
    "estimators = ['svc']\n",
    "wrong_dfs = []\n",
    "for est in estimators:\n",
    "    scores, wrong = jackknife_cv(X[important_features], y, est)\n",
    "    print('The average accuracy for ' + est.upper() + ' with jackknife cross-validation was {:.2%}.'.format(np.mean(scores)))\n",
    "    wrong_dfs.append((est, animal_names.iloc[wrong]))"
   ]
  },
  {
   "cell_type": "code",
   "execution_count": 153,
   "metadata": {},
   "outputs": [
    {
     "name": "stdout",
     "output_type": "stream",
     "text": [
      "svc\n",
      "   animal_name class_name\n",
      "97    seasnake    Reptile\n",
      "99    tortoise    Reptile\n"
     ]
    }
   ],
   "source": [
    "for est,df in wrong_dfs:\n",
    "    print(est)\n",
    "    print(df)"
   ]
  },
  {
   "cell_type": "markdown",
   "metadata": {},
   "source": [
    "### This is a big win!!! Both accuracies went up!!\n",
    "\n",
    "It looks like that seasnake is still a pain in our behind, though...\n",
    "\n",
    "Let's try the grid search cross-validation again."
   ]
  },
  {
   "cell_type": "code",
   "execution_count": 75,
   "metadata": {},
   "outputs": [
    {
     "data": {
      "text/plain": [
       "array(['hair', 'feathers', 'eggs', 'milk', 'airborne', 'aquatic',\n",
       "       'toothed', 'backbone', 'breathes', 'fins', 'tail', '2_legs',\n",
       "       '4_legs', '6_legs'], dtype=object)"
      ]
     },
     "execution_count": 75,
     "metadata": {},
     "output_type": "execute_result"
    }
   ],
   "source": [
    "important_features.values"
   ]
  },
  {
   "cell_type": "code",
   "execution_count": 82,
   "metadata": {
    "collapsed": true
   },
   "outputs": [
    {
     "name": "stdout",
     "output_type": "stream",
     "text": [
      "0\n",
      "100\n",
      "200\n",
      "300\n",
      "400\n",
      "500\n",
      "600\n",
      "700\n",
      "800\n",
      "900\n",
      "1000\n",
      "1100\n",
      "1200\n",
      "1300\n",
      "1400\n",
      "1500\n",
      "1600\n",
      "1700\n",
      "1800\n",
      "1900\n",
      "2000\n",
      "2100\n",
      "2200\n",
      "2300\n",
      "2400\n",
      "2500\n",
      "2600\n",
      "2700\n",
      "2800\n",
      "2900\n",
      "3000\n",
      "3100\n",
      "3200\n",
      "3300\n",
      "3400\n",
      "3500\n",
      "3600\n",
      "3700\n",
      "3800\n",
      "3900\n",
      "4000\n",
      "4100\n",
      "4200\n",
      "4300\n",
      "4400\n",
      "4500\n",
      "4600\n",
      "4700\n",
      "4800\n",
      "4900\n",
      "5000\n",
      "5100\n",
      "5200\n",
      "5300\n",
      "5400\n",
      "5500\n",
      "5600\n",
      "5700\n",
      "5800\n",
      "5900\n",
      "6000\n",
      "6100\n",
      "6200\n",
      "6300\n",
      "6400\n",
      "6500\n",
      "6600\n",
      "6700\n",
      "6800\n",
      "6900\n",
      "7000\n",
      "7100\n",
      "7200\n",
      "7300\n",
      "7400\n",
      "7500\n",
      "7600\n",
      "7700\n",
      "7800\n",
      "7900\n",
      "8000\n",
      "8100\n",
      "8200\n",
      "8300\n",
      "8400\n",
      "8500\n",
      "8600\n",
      "8700\n",
      "8800\n",
      "8900\n",
      "9000\n",
      "9100\n",
      "9200\n",
      "9300\n",
      "9400\n",
      "9500\n",
      "9600\n",
      "9700\n",
      "9800\n",
      "9900\n",
      "The average accuracy for SVC across 10000 simulations was 97.78%\n",
      "0\n",
      "100\n",
      "200\n",
      "300\n",
      "400\n",
      "500\n",
      "600\n",
      "700\n",
      "800\n",
      "900\n",
      "1000\n",
      "1100\n",
      "1200\n",
      "1300\n",
      "1400\n",
      "1500\n",
      "1600\n",
      "1700\n",
      "1800\n",
      "1900\n",
      "2000\n",
      "2100\n",
      "2200\n",
      "2300\n",
      "2400\n",
      "2500\n",
      "2600\n",
      "2700\n",
      "2800\n",
      "2900\n",
      "3000\n",
      "3100\n",
      "3200\n",
      "3300\n",
      "3400\n",
      "3500\n",
      "3600\n",
      "3700\n",
      "3800\n",
      "3900\n",
      "4000\n",
      "4100\n",
      "4200\n",
      "4300\n",
      "4400\n",
      "4500\n",
      "4600\n",
      "4700\n",
      "4800\n",
      "4900\n",
      "5000\n",
      "5100\n",
      "5200\n",
      "5300\n",
      "5400\n",
      "5500\n",
      "5600\n",
      "5700\n",
      "5800\n",
      "5900\n",
      "6000\n",
      "6100\n",
      "6200\n",
      "6300\n",
      "6400\n",
      "6500\n",
      "6600\n",
      "6700\n",
      "6800\n",
      "6900\n",
      "7000\n",
      "7100\n",
      "7200\n",
      "7300\n",
      "7400\n",
      "7500\n",
      "7600\n",
      "7700\n",
      "7800\n",
      "7900\n",
      "8000\n",
      "8100\n",
      "8200\n",
      "8300\n",
      "8400\n",
      "8500\n",
      "8600\n",
      "8700\n",
      "8800\n",
      "8900\n",
      "9000\n",
      "9100\n",
      "9200\n",
      "9300\n",
      "9400\n",
      "9500\n",
      "9600\n",
      "9700\n",
      "9800\n",
      "9900\n",
      "The average accuracy for BNB across 10000 simulations was 96.96%\n",
      "0\n",
      "100\n",
      "200\n",
      "300\n",
      "400\n",
      "500\n",
      "600\n",
      "700\n",
      "800\n",
      "900\n",
      "1000\n",
      "1100\n",
      "1200\n",
      "1300\n",
      "1400\n",
      "1500\n",
      "1600\n",
      "1700\n",
      "1800\n",
      "1900\n",
      "2000\n",
      "2100\n",
      "2200\n",
      "2300\n",
      "2400\n",
      "2500\n",
      "2600\n",
      "2700\n",
      "2800\n",
      "2900\n",
      "3000\n",
      "3100\n",
      "3200\n",
      "3300\n",
      "3400\n",
      "3500\n",
      "3600\n",
      "3700\n",
      "3800\n",
      "3900\n",
      "4000\n",
      "4100\n",
      "4200\n",
      "4300\n",
      "4400\n",
      "4500\n",
      "4600\n",
      "4700\n",
      "4800\n",
      "4900\n",
      "5000\n",
      "5100\n",
      "5200\n",
      "5300\n",
      "5400\n",
      "5500\n",
      "5600\n",
      "5700\n",
      "5800\n",
      "5900\n",
      "6000\n",
      "6100\n",
      "6200\n",
      "6300\n",
      "6400\n",
      "6500\n",
      "6600\n",
      "6700\n",
      "6800\n",
      "6900\n",
      "7000\n",
      "7100\n",
      "7200\n",
      "7300\n",
      "7400\n",
      "7500\n",
      "7600\n",
      "7700\n",
      "7800\n",
      "7900\n",
      "8000\n",
      "8100\n",
      "8200\n",
      "8300\n",
      "8400\n",
      "8500\n",
      "8600\n",
      "8700\n",
      "8800\n",
      "8900\n",
      "9000\n",
      "9100\n",
      "9200\n",
      "9300\n",
      "9400\n",
      "9500\n",
      "9600\n",
      "9700\n",
      "9800\n",
      "9900\n",
      "The average accuracy for KNC across 10000 simulations was 97.55%\n"
     ]
    }
   ],
   "source": [
    "bad = []\n",
    "n_simulations = 10000\n",
    "copy = important_features.copy()\n",
    "copy = np.append(copy, 'animal_name')\n",
    "for est in estimators:\n",
    "    scores = simulate_model(n_simulations, X[copy], y, est)"
   ]
  },
  {
   "cell_type": "markdown",
   "metadata": {},
   "source": [
    "## Target Shuffling"
   ]
  },
  {
   "cell_type": "code",
   "execution_count": 99,
   "metadata": {},
   "outputs": [
    {
     "name": "stdout",
     "output_type": "stream",
     "text": [
      "100\n",
      "200\n",
      "300\n",
      "400\n",
      "500\n",
      "600\n",
      "700\n",
      "800\n",
      "900\n",
      "1000\n"
     ]
    }
   ],
   "source": [
    "n_simulations = 1000\n",
    "shuffled_scores = []\n",
    "for sim in range(1, n_simulations+1):\n",
    "    if sim % 100 == 0: print(sim)\n",
    "    np.random.shuffle(y)\n",
    "    scores, _ = jackknife_cv(X[important_features], y, 'svc', ts=True)\n",
    "    shuffled_scores.append(np.mean(scores))"
   ]
  },
  {
   "cell_type": "code",
   "execution_count": 105,
   "metadata": {
    "scrolled": false
   },
   "outputs": [
    {
     "data": {
      "text/plain": [
       "<matplotlib.lines.Line2D at 0x1c89c194cc0>"
      ]
     },
     "execution_count": 105,
     "metadata": {},
     "output_type": "execute_result"
    },
    {
     "data": {
      "image/png": "[encoded data removed]",
      "text/plain": [
       "<matplotlib.figure.Figure at 0x1c89c194d30>"
      ]
     },
     "metadata": {},
     "output_type": "display_data"
    }
   ],
   "source": [
    "sns.distplot(shuffled_scores)\n",
    "plt.axvline(0.98, color='red')"
   ]
  },
  {
   "cell_type": "markdown",
   "metadata": {},
   "source": [
    "After target shuffling, it's blatantly obvious that our results were not random in any sense of the word."
   ]
  }
 ],
 "metadata": {
  "kernelspec": {
   "display_name": "Python 3",
   "language": "python",
   "name": "python3"
  },
  "language_info": {
   "codemirror_mode": {
    "name": "ipython",
    "version": 3
   },
   "file_extension": ".py",
   "mimetype": "text/x-python",
   "name": "python",
   "nbconvert_exporter": "python",
   "pygments_lexer": "ipython3",
   "version": "3.6.3"
  }
 },
 "nbformat": 4,
 "nbformat_minor": 2
}
